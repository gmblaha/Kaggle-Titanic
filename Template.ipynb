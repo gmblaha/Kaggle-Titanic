{
  "nbformat": 4,
  "nbformat_minor": 0,
  "metadata": {
    "colab": {
      "name": "Template.ipynb",
      "version": "0.3.2",
      "provenance": [],
      "collapsed_sections": [],
      "include_colab_link": true
    },
    "kernelspec": {
      "name": "python3",
      "display_name": "Python 3"
    },
    "accelerator": "GPU"
  },
  "cells": [
    {
      "cell_type": "markdown",
      "metadata": {
        "id": "view-in-github",
        "colab_type": "text"
      },
      "source": [
        "<a href=\"https://colab.research.google.com/github/gmblaha/Kaggle-Titanic/blob/master/Template.ipynb\" target=\"_parent\"><img src=\"https://colab.research.google.com/assets/colab-badge.svg\" alt=\"Open In Colab\"/></a>"
      ]
    },
    {
      "metadata": {
        "id": "8Za3A1skmOwo",
        "colab_type": "text"
      },
      "cell_type": "markdown",
      "source": [
        "**Ingest**"
      ]
    },
    {
      "metadata": {
        "id": "zx-WTyqbkceT",
        "colab_type": "code",
        "colab": {}
      },
      "cell_type": "code",
      "source": [
        "#code"
      ],
      "execution_count": 0,
      "outputs": []
    },
    {
      "metadata": {
        "id": "PoAE1IsumYfS",
        "colab_type": "text"
      },
      "cell_type": "markdown",
      "source": [
        "**Exploratory Data Analysis**"
      ]
    },
    {
      "metadata": {
        "id": "YPJwmz_hmiEj",
        "colab_type": "code",
        "colab": {}
      },
      "cell_type": "code",
      "source": [
        "#code"
      ],
      "execution_count": 0,
      "outputs": []
    },
    {
      "metadata": {
        "id": "nTcWePvwmjZe",
        "colab_type": "text"
      },
      "cell_type": "markdown",
      "source": [
        "**Modeling**"
      ]
    },
    {
      "metadata": {
        "id": "7bFn10Slmluj",
        "colab_type": "code",
        "colab": {}
      },
      "cell_type": "code",
      "source": [
        "#code"
      ],
      "execution_count": 0,
      "outputs": []
    },
    {
      "metadata": {
        "id": "d6rhotZfmqS8",
        "colab_type": "text"
      },
      "cell_type": "markdown",
      "source": [
        "**Conclusion**"
      ]
    },
    {
      "metadata": {
        "id": "tybSNXenmsuz",
        "colab_type": "code",
        "colab": {}
      },
      "cell_type": "code",
      "source": [
        "#code/text"
      ],
      "execution_count": 0,
      "outputs": []
    }
  ]
}